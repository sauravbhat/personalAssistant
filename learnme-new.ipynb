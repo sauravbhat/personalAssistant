{
 "cells": [
  {
   "cell_type": "code",
   "execution_count": 1,
   "id": "7fb81581-21ae-4e9c-ac77-efa20ba0ae25",
   "metadata": {
    "scrolled": true,
    "tags": []
   },
   "outputs": [
    {
     "name": "stdout",
     "output_type": "stream",
     "text": [
      "Requirement already satisfied: pip in /Users/sauravbhattacharyya/miniconda3/lib/python3.11/site-packages (23.3.1)\n",
      "Note: you may need to restart the kernel to use updated packages.\n",
      "\u001b[31mERROR: Could not find a version that satisfies the requirement torch==1.13.1 (from versions: 2.0.0, 2.0.1, 2.1.0, 2.1.1)\u001b[0m\u001b[31m\n",
      "\u001b[0m\u001b[31mERROR: No matching distribution found for torch==1.13.1\u001b[0m\u001b[31m\n",
      "\u001b[0mNote: you may need to restart the kernel to use updated packages.\n",
      "Requirement already satisfied: ipython==8.16.1 in /Users/sauravbhattacharyya/miniconda3/lib/python3.11/site-packages (8.16.1)\n",
      "Requirement already satisfied: backcall in /Users/sauravbhattacharyya/miniconda3/lib/python3.11/site-packages (from ipython==8.16.1) (0.2.0)\n",
      "Requirement already satisfied: decorator in /Users/sauravbhattacharyya/miniconda3/lib/python3.11/site-packages (from ipython==8.16.1) (5.1.1)\n",
      "Requirement already satisfied: jedi>=0.16 in /Users/sauravbhattacharyya/miniconda3/lib/python3.11/site-packages (from ipython==8.16.1) (0.19.1)\n",
      "Requirement already satisfied: matplotlib-inline in /Users/sauravbhattacharyya/miniconda3/lib/python3.11/site-packages (from ipython==8.16.1) (0.1.6)\n",
      "Requirement already satisfied: pickleshare in /Users/sauravbhattacharyya/miniconda3/lib/python3.11/site-packages (from ipython==8.16.1) (0.7.5)\n",
      "Requirement already satisfied: prompt-toolkit!=3.0.37,<3.1.0,>=3.0.30 in /Users/sauravbhattacharyya/miniconda3/lib/python3.11/site-packages (from ipython==8.16.1) (3.0.41)\n",
      "Requirement already satisfied: pygments>=2.4.0 in /Users/sauravbhattacharyya/miniconda3/lib/python3.11/site-packages (from ipython==8.16.1) (2.17.2)\n",
      "Requirement already satisfied: stack-data in /Users/sauravbhattacharyya/miniconda3/lib/python3.11/site-packages (from ipython==8.16.1) (0.6.3)\n",
      "Requirement already satisfied: traitlets>=5 in /Users/sauravbhattacharyya/miniconda3/lib/python3.11/site-packages (from ipython==8.16.1) (5.14.0)\n",
      "Requirement already satisfied: pexpect>4.3 in /Users/sauravbhattacharyya/miniconda3/lib/python3.11/site-packages (from ipython==8.16.1) (4.9.0)\n",
      "Requirement already satisfied: appnope in /Users/sauravbhattacharyya/miniconda3/lib/python3.11/site-packages (from ipython==8.16.1) (0.1.3)\n",
      "Requirement already satisfied: parso<0.9.0,>=0.8.3 in /Users/sauravbhattacharyya/miniconda3/lib/python3.11/site-packages (from jedi>=0.16->ipython==8.16.1) (0.8.3)\n",
      "Requirement already satisfied: ptyprocess>=0.5 in /Users/sauravbhattacharyya/miniconda3/lib/python3.11/site-packages (from pexpect>4.3->ipython==8.16.1) (0.7.0)\n",
      "Requirement already satisfied: wcwidth in /Users/sauravbhattacharyya/miniconda3/lib/python3.11/site-packages (from prompt-toolkit!=3.0.37,<3.1.0,>=3.0.30->ipython==8.16.1) (0.2.12)\n",
      "Requirement already satisfied: executing>=1.2.0 in /Users/sauravbhattacharyya/miniconda3/lib/python3.11/site-packages (from stack-data->ipython==8.16.1) (2.0.1)\n",
      "Requirement already satisfied: asttokens>=2.1.0 in /Users/sauravbhattacharyya/miniconda3/lib/python3.11/site-packages (from stack-data->ipython==8.16.1) (2.4.1)\n",
      "Requirement already satisfied: pure-eval in /Users/sauravbhattacharyya/miniconda3/lib/python3.11/site-packages (from stack-data->ipython==8.16.1) (0.2.2)\n",
      "Requirement already satisfied: six>=1.12.0 in /Users/sauravbhattacharyya/miniconda3/lib/python3.11/site-packages (from asttokens>=2.1.0->stack-data->ipython==8.16.1) (1.16.0)\n",
      "Note: you may need to restart the kernel to use updated packages.\n",
      "Requirement already satisfied: wandb in /Users/sauravbhattacharyya/miniconda3/lib/python3.11/site-packages (0.16.1)\n",
      "Requirement already satisfied: Click!=8.0.0,>=7.1 in /Users/sauravbhattacharyya/miniconda3/lib/python3.11/site-packages (from wandb) (8.1.7)\n",
      "Requirement already satisfied: GitPython!=3.1.29,>=1.0.0 in /Users/sauravbhattacharyya/miniconda3/lib/python3.11/site-packages (from wandb) (3.1.40)\n",
      "Requirement already satisfied: requests<3,>=2.0.0 in /Users/sauravbhattacharyya/miniconda3/lib/python3.11/site-packages (from wandb) (2.31.0)\n",
      "Requirement already satisfied: psutil>=5.0.0 in /Users/sauravbhattacharyya/miniconda3/lib/python3.11/site-packages (from wandb) (5.9.6)\n",
      "Requirement already satisfied: sentry-sdk>=1.0.0 in /Users/sauravbhattacharyya/miniconda3/lib/python3.11/site-packages (from wandb) (1.38.0)\n",
      "Requirement already satisfied: docker-pycreds>=0.4.0 in /Users/sauravbhattacharyya/miniconda3/lib/python3.11/site-packages (from wandb) (0.4.0)\n",
      "Requirement already satisfied: PyYAML in /Users/sauravbhattacharyya/miniconda3/lib/python3.11/site-packages (from wandb) (6.0.1)\n",
      "Requirement already satisfied: setproctitle in /Users/sauravbhattacharyya/miniconda3/lib/python3.11/site-packages (from wandb) (1.3.3)\n",
      "Requirement already satisfied: setuptools in /Users/sauravbhattacharyya/miniconda3/lib/python3.11/site-packages (from wandb) (68.0.0)\n",
      "Requirement already satisfied: appdirs>=1.4.3 in /Users/sauravbhattacharyya/miniconda3/lib/python3.11/site-packages (from wandb) (1.4.4)\n",
      "Requirement already satisfied: protobuf!=4.21.0,<5,>=3.19.0 in /Users/sauravbhattacharyya/miniconda3/lib/python3.11/site-packages (from wandb) (4.25.1)\n",
      "Requirement already satisfied: six>=1.4.0 in /Users/sauravbhattacharyya/miniconda3/lib/python3.11/site-packages (from docker-pycreds>=0.4.0->wandb) (1.16.0)\n",
      "Requirement already satisfied: gitdb<5,>=4.0.1 in /Users/sauravbhattacharyya/miniconda3/lib/python3.11/site-packages (from GitPython!=3.1.29,>=1.0.0->wandb) (4.0.11)\n",
      "Requirement already satisfied: charset-normalizer<4,>=2 in /Users/sauravbhattacharyya/miniconda3/lib/python3.11/site-packages (from requests<3,>=2.0.0->wandb) (2.0.4)\n",
      "Requirement already satisfied: idna<4,>=2.5 in /Users/sauravbhattacharyya/miniconda3/lib/python3.11/site-packages (from requests<3,>=2.0.0->wandb) (3.4)\n",
      "Requirement already satisfied: urllib3<3,>=1.21.1 in /Users/sauravbhattacharyya/miniconda3/lib/python3.11/site-packages (from requests<3,>=2.0.0->wandb) (1.26.18)\n",
      "Requirement already satisfied: certifi>=2017.4.17 in /Users/sauravbhattacharyya/miniconda3/lib/python3.11/site-packages (from requests<3,>=2.0.0->wandb) (2023.11.17)\n",
      "Requirement already satisfied: smmap<6,>=3.0.1 in /Users/sauravbhattacharyya/miniconda3/lib/python3.11/site-packages (from gitdb<5,>=4.0.1->GitPython!=3.1.29,>=1.0.0->wandb) (5.0.1)\n",
      "Note: you may need to restart the kernel to use updated packages.\n",
      "Requirement already satisfied: sentencepiece in /Users/sauravbhattacharyya/miniconda3/lib/python3.11/site-packages (0.1.99)\n",
      "Note: you may need to restart the kernel to use updated packages.\n",
      "Note: you may need to restart the kernel to use updated packages.\n"
     ]
    }
   ],
   "source": [
    "%pip install --upgrade pip\n",
    "%pip install --disable-pip-version-check \\\n",
    "    torch==1.13.1 \\\n",
    "    torchdata==0.5.1 --quiet\n",
    "%pip install ipython==8.16.1\n",
    "%pip install wandb --upgrade\n",
    "%pip install sentencepiece\n",
    "%pip install \\\n",
    "    transformers==4.27.2 \\\n",
    "    datasets==2.11.0 \\\n",
    "    evaluate==0.4.0 \\\n",
    "    rouge_score==0.1.2 \\\n",
    "    loralib==0.1.1 \\\n",
    "    peft==0.3.0 --quiet"
   ]
  },
  {
   "cell_type": "code",
   "execution_count": 2,
   "id": "edda8f7e-04fa-4292-bbda-723a994b25ca",
   "metadata": {
    "tags": []
   },
   "outputs": [],
   "source": [
    "# Import the necessary libraries\n",
    "import nltk\n",
    "from datasets import load_dataset\n",
    "import evaluate\n",
    "import numpy as np\n",
    "from transformers import T5Tokenizer, DataCollatorForSeq2Seq\n",
    "from transformers import T5ForConditionalGeneration, Seq2SeqTrainingArguments, Seq2SeqTrainer, AutoModelForSeq2SeqLM, AutoTokenizer, GenerationConfig, TrainingArguments"
   ]
  },
  {
   "cell_type": "code",
   "execution_count": 3,
   "id": "fdedc00d-c0e2-4f25-b2f6-c0eb8fc6b7a1",
   "metadata": {
    "tags": []
   },
   "outputs": [
    {
     "name": "stderr",
     "output_type": "stream",
     "text": [
      "Found cached dataset json (/Users/sauravbhattacharyya/.cache/huggingface/datasets/bsaurav___json/bsaurav--biography-10c0c57493cba1d3/0.0.0/fe5dd6ea2639a6df622901539cb550cf8797e5a6b2dd7af1cf934bed8e233e6e)\n"
     ]
    },
    {
     "data": {
      "application/vnd.jupyter.widget-view+json": {
       "model_id": "69b1baef699940d6b8fd0cfc786ce22d",
       "version_major": 2,
       "version_minor": 0
      },
      "text/plain": [
       "  0%|          | 0/1 [00:00<?, ?it/s]"
      ]
     },
     "metadata": {},
     "output_type": "display_data"
    }
   ],
   "source": [
    "# Load and split the dataset\n",
    "dataset = load_dataset(\"bsaurav/biography\")\n",
    "dataset = dataset[\"train\"].train_test_split(test_size=0.2)"
   ]
  },
  {
   "cell_type": "code",
   "execution_count": 4,
   "id": "dfecae18-c27f-4c55-b43e-3facac160049",
   "metadata": {
    "tags": []
   },
   "outputs": [],
   "source": [
    "# Load the tokenizer, model, and data collator\n",
    "tokenizer = T5Tokenizer.from_pretrained(\"google/flan-t5-base\")\n",
    "model = T5ForConditionalGeneration.from_pretrained(\"google/flan-t5-base\")\n",
    "data_collator = DataCollatorForSeq2Seq(tokenizer=tokenizer, model=model)"
   ]
  },
  {
   "cell_type": "code",
   "execution_count": 5,
   "id": "b58bfd7e-e6b8-4c94-8c53-8b626c0f25c4",
   "metadata": {
    "tags": []
   },
   "outputs": [
    {
     "data": {
      "application/vnd.jupyter.widget-view+json": {
       "model_id": "",
       "version_major": 2,
       "version_minor": 0
      },
      "text/plain": [
       "Map:   0%|          | 0/9 [00:00<?, ? examples/s]"
      ]
     },
     "metadata": {},
     "output_type": "display_data"
    },
    {
     "data": {
      "application/vnd.jupyter.widget-view+json": {
       "model_id": "",
       "version_major": 2,
       "version_minor": 0
      },
      "text/plain": [
       "Map:   0%|          | 0/3 [00:00<?, ? examples/s]"
      ]
     },
     "metadata": {},
     "output_type": "display_data"
    }
   ],
   "source": [
    "# We prefix our tasks with \"answer the question\"\n",
    "prefix = \"answer the question: \"\n",
    "\n",
    "# Define our preprocessing function\n",
    "def preprocess_function(examples):\n",
    "    \"\"\"Add prefix to the sentences, tokenize the text, and set the labels\"\"\"\n",
    "    # The \"inputs\" are the tokenized answer:\n",
    "    inputs = [prefix + doc for doc in examples[\"question\"]]\n",
    "    model_inputs = tokenizer(inputs, max_length=128, truncation=True)\n",
    "    \n",
    "    # The \"labels\" are the tokenized outputs:\n",
    "    labels = tokenizer(text_target=examples[\"answer\"], max_length=512, truncation=True)\n",
    "    model_inputs[\"labels\"] = labels[\"input_ids\"]\n",
    "    return model_inputs\n",
    "\n",
    "# Map the preprocessing function across our dataset\n",
    "tokenized_dataset = dataset.map(preprocess_function, batched=True)"
   ]
  },
  {
   "cell_type": "code",
   "execution_count": 6,
   "id": "d55c8494-f872-45cb-a6d5-dd3516923c41",
   "metadata": {
    "tags": []
   },
   "outputs": [],
   "source": [
    "# Set up Rouge score for evaluation\n",
    "nltk.download(\"punkt\", quiet=True)\n",
    "metric = evaluate.load(\"rouge\")\n",
    "\n",
    "def compute_metrics(eval_preds):\n",
    "    preds, labels = eval_preds\n",
    "\n",
    "    # decode preds and labels\n",
    "    labels = np.where(labels != -100, labels, tokenizer.pad_token_id)\n",
    "    decoded_preds = tokenizer.batch_decode(preds, skip_special_tokens=True)\n",
    "    decoded_labels = tokenizer.batch_decode(labels, skip_special_tokens=True)\n",
    "\n",
    "    # rougeLSum expects newline after each sentence\n",
    "    decoded_preds = [\"\\n\".join(nltk.sent_tokenize(pred.strip())) for pred in decoded_preds]\n",
    "    decoded_labels = [\"\\n\".join(nltk.sent_tokenize(label.strip())) for label in decoded_labels]\n",
    "\n",
    "    result = metric.compute(predictions=decoded_preds, references=decoded_labels, use_stemmer=True)\n",
    "    return result"
   ]
  },
  {
   "cell_type": "code",
   "execution_count": 7,
   "id": "826cc25d-72ff-42ea-ab3e-627824fe81f7",
   "metadata": {
    "tags": []
   },
   "outputs": [
    {
     "name": "stderr",
     "output_type": "stream",
     "text": [
      "/Users/sauravbhattacharyya/miniconda3/lib/python3.11/site-packages/transformers/optimization.py:391: FutureWarning: This implementation of AdamW is deprecated and will be removed in a future version. Use the PyTorch implementation torch.optim.AdamW instead, or set `no_deprecation_warning=True` to disable this warning\n",
      "  warnings.warn(\n",
      "\u001b[34m\u001b[1mwandb\u001b[0m: Currently logged in as: \u001b[33msauravbhat\u001b[0m. Use \u001b[1m`wandb login --relogin`\u001b[0m to force relogin\n"
     ]
    },
    {
     "data": {
      "application/vnd.jupyter.widget-view+json": {
       "model_id": "93a0952c096441abb13c59b5e0e72e55",
       "version_major": 2,
       "version_minor": 0
      },
      "text/plain": [
       "VBox(children=(Label(value='Waiting for wandb.init()...\\r'), FloatProgress(value=0.011168385644446567, max=1.0…"
      ]
     },
     "metadata": {},
     "output_type": "display_data"
    },
    {
     "data": {
      "text/html": [
       "Tracking run with wandb version 0.16.1"
      ],
      "text/plain": [
       "<IPython.core.display.HTML object>"
      ]
     },
     "metadata": {},
     "output_type": "display_data"
    },
    {
     "data": {
      "text/html": [
       "Run data is saved locally in <code>/Users/sauravbhattacharyya/datascience/learnml/wandb/run-20231211_132138-bthj4rpg</code>"
      ],
      "text/plain": [
       "<IPython.core.display.HTML object>"
      ]
     },
     "metadata": {},
     "output_type": "display_data"
    },
    {
     "data": {
      "text/html": [
       "Syncing run <strong><a href='https://wandb.ai/sauravbhat/huggingface/runs/bthj4rpg' target=\"_blank\">still-planet-24</a></strong> to <a href='https://wandb.ai/sauravbhat/huggingface' target=\"_blank\">Weights & Biases</a> (<a href='https://wandb.me/run' target=\"_blank\">docs</a>)<br/>"
      ],
      "text/plain": [
       "<IPython.core.display.HTML object>"
      ]
     },
     "metadata": {},
     "output_type": "display_data"
    },
    {
     "data": {
      "text/html": [
       " View project at <a href='https://wandb.ai/sauravbhat/huggingface' target=\"_blank\">https://wandb.ai/sauravbhat/huggingface</a>"
      ],
      "text/plain": [
       "<IPython.core.display.HTML object>"
      ]
     },
     "metadata": {},
     "output_type": "display_data"
    },
    {
     "data": {
      "text/html": [
       " View run at <a href='https://wandb.ai/sauravbhat/huggingface/runs/bthj4rpg' target=\"_blank\">https://wandb.ai/sauravbhat/huggingface/runs/bthj4rpg</a>"
      ],
      "text/plain": [
       "<IPython.core.display.HTML object>"
      ]
     },
     "metadata": {},
     "output_type": "display_data"
    },
    {
     "data": {
      "text/html": [
       "\n",
       "    <div>\n",
       "      \n",
       "      <progress value='4' max='4' style='width:300px; height:20px; vertical-align: middle;'></progress>\n",
       "      [4/4 00:03, Epoch 2/2]\n",
       "    </div>\n",
       "    <table border=\"1\" class=\"dataframe\">\n",
       "  <thead>\n",
       " <tr style=\"text-align: left;\">\n",
       "      <th>Epoch</th>\n",
       "      <th>Training Loss</th>\n",
       "      <th>Validation Loss</th>\n",
       "      <th>Rouge1</th>\n",
       "      <th>Rouge2</th>\n",
       "      <th>Rougel</th>\n",
       "      <th>Rougelsum</th>\n",
       "    </tr>\n",
       "  </thead>\n",
       "  <tbody>\n",
       "    <tr>\n",
       "      <td>1</td>\n",
       "      <td>No log</td>\n",
       "      <td>3.426876</td>\n",
       "      <td>0.000000</td>\n",
       "      <td>0.000000</td>\n",
       "      <td>0.000000</td>\n",
       "      <td>0.000000</td>\n",
       "    </tr>\n",
       "    <tr>\n",
       "      <td>2</td>\n",
       "      <td>No log</td>\n",
       "      <td>3.171279</td>\n",
       "      <td>0.000000</td>\n",
       "      <td>0.000000</td>\n",
       "      <td>0.000000</td>\n",
       "      <td>0.000000</td>\n",
       "    </tr>\n",
       "  </tbody>\n",
       "</table><p>"
      ],
      "text/plain": [
       "<IPython.core.display.HTML object>"
      ]
     },
     "metadata": {},
     "output_type": "display_data"
    },
    {
     "data": {
      "text/plain": [
       "TrainOutput(global_step=4, training_loss=3.959766149520874, metrics={'train_runtime': 8.7752, 'train_samples_per_second': 2.051, 'train_steps_per_second': 0.456, 'total_flos': 353078009856.0, 'train_loss': 3.959766149520874, 'epoch': 2.0})"
      ]
     },
     "execution_count": 7,
     "metadata": {},
     "output_type": "execute_result"
    }
   ],
   "source": [
    "# Set up training arguments\n",
    "training_args = Seq2SeqTrainingArguments(\n",
    "    output_dir=\"./results\",\n",
    "    evaluation_strategy=\"epoch\",\n",
    "    learning_rate=3e-4,\n",
    "    per_device_train_batch_size=8,\n",
    "    per_device_eval_batch_size=4,\n",
    "    weight_decay=0.01,\n",
    "    save_total_limit=3,\n",
    "    num_train_epochs=2,\n",
    "    predict_with_generate=True,\n",
    "    push_to_hub=False,\n",
    "    hub_token=\"\"\n",
    ")\n",
    "\n",
    "# Set up trainer\n",
    "trainer = Seq2SeqTrainer(\n",
    "    model=model,\n",
    "    args=training_args,\n",
    "    train_dataset=tokenized_dataset[\"train\"],\n",
    "    eval_dataset=tokenized_dataset[\"test\"],\n",
    "    tokenizer=tokenizer,\n",
    "    data_collator=data_collator,\n",
    "    compute_metrics=compute_metrics\n",
    ")\n",
    "\n",
    "# Train the model\n",
    "trainer.train()"
   ]
  },
  {
   "cell_type": "code",
   "execution_count": 8,
   "id": "c8fe925b-6e01-4b0c-a919-80a9ada1be8a",
   "metadata": {
    "tags": []
   },
   "outputs": [
    {
     "data": {
      "text/plain": [
       "'/opt/homebrew/bin/git-lfs'"
      ]
     },
     "execution_count": 8,
     "metadata": {},
     "output_type": "execute_result"
    }
   ],
   "source": [
    "import shutil\n",
    "shutil.which(\"git-lfs\")"
   ]
  },
  {
   "cell_type": "code",
   "execution_count": 9,
   "id": "ebc1c17b-5ae2-4071-b907-b3e5d2149102",
   "metadata": {
    "tags": []
   },
   "outputs": [],
   "source": [
    "#save the model to the hub\n",
    "#%pip install git-lfs\n",
    "\n",
    "MODEL_NAME = \"personal\"  # the name of your model\n",
    "MODEL_ID = \"google/flan-t5-base\"  # the id of the base model we will train (can be small, base, large, xl, etc.) (the bigger - the more GPU memory you need)\n",
    "REPOSITORY_ID = f\"{MODEL_ID.split('/')[1]}-{MODEL_NAME}\"\n",
    "#f\"{MODEL_ID.split('/')[1]}-{MODEL_NAME}\"  # the id of your huggingface repository where the model will be stored\n",
    "#NUM_TRAIN_EPOCHS = 4  # number of epochs to train\n",
    "tokenizer.save_pretrained(\"results\")\n",
    "trainer.create_model_card()\n",
    "#trainer.push_to_hub()\n",
    "#tokenizer.push_to_hub(REPOSITORY_ID)"
   ]
  },
  {
   "cell_type": "code",
   "execution_count": null,
   "id": "65589bb2-d1ac-4ad9-9732-6a1258928baa",
   "metadata": {},
   "outputs": [],
   "source": []
  }
 ],
 "metadata": {
  "kernelspec": {
   "display_name": "Python 3 (ipykernel)",
   "language": "python",
   "name": "python3"
  },
  "language_info": {
   "codemirror_mode": {
    "name": "ipython",
    "version": 3
   },
   "file_extension": ".py",
   "mimetype": "text/x-python",
   "name": "python",
   "nbconvert_exporter": "python",
   "pygments_lexer": "ipython3",
   "version": "3.11.5"
  }
 },
 "nbformat": 4,
 "nbformat_minor": 5
}
