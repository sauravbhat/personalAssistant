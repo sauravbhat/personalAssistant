{
 "cells": [
  {
   "cell_type": "code",
   "execution_count": null,
   "id": "6c0a596a-da3d-4c44-bb7a-ec3b6d5a5adb",
   "metadata": {},
   "outputs": [],
   "source": [
    "%pip install git-lfs --upgrade\n",
    "%pip install gitpython"
   ]
  },
  {
   "cell_type": "markdown",
   "id": "ddb4c876-3fd2-46e9-b0ff-6afa8a387320",
   "metadata": {},
   "source": [
    "# Useful packages to be installed\n",
    "\n",
    "In order to clone the repo in local folder we need git-lfs. This will be installed using command line where jupyter notebook is installed.\n",
    "the git-lfs can be installed using the following command - \n",
    "\n",
    "pip install homebrew #install homebrew\n",
    "\n",
    "eval \"$(/opt/homebrew/bin/brew shellenv)\" # initialize brew\n",
    "\n",
    "brew install git-lfs \n",
    "\n",
    "git lfs install # Updated Git hooks. Git LFS initialized.\n",
    "\n",
    "jupyter lab"
   ]
  },
  {
   "cell_type": "code",
   "execution_count": null,
   "id": "71bdf098-160a-40ad-9682-02adf62db932",
   "metadata": {},
   "outputs": [],
   "source": [
    "import os\n"
   ]
  },
  {
   "cell_type": "code",
   "execution_count": null,
   "id": "bcfa12ad-5397-4172-99a8-4e144aa26394",
   "metadata": {},
   "outputs": [],
   "source": [
    "from datetime import datetime\n",
    "# datetime object containing current date and time\n",
    "now = datetime.now()\n",
    "repo_dir = now.strftime(\"%d-%m-%Y-%H-%M-%S\")\n",
    "print(\"date and time =\", repo_dir)\n",
    "if not os.path.exists(repo_dir):\n",
    "   os.makedirs(repo_dir)\n",
    "\n",
    "#os.chdir(repo_dir)\n",
    "  \n"
   ]
  },
  {
   "cell_type": "code",
   "execution_count": null,
   "id": "9525849e-efd5-4180-ad08-dc556d93a343",
   "metadata": {},
   "outputs": [],
   "source": [
    "\n",
    "from git import Repo  # pip install gitpython\n",
    "git_url = \"https://huggingface.co/bsaurav/results\"\n",
    "\n",
    "Repo.clone_from(git_url, repo_dir)\n",
    "#git clone git@hf.co:bsaurav/results"
   ]
  },
  {
   "cell_type": "code",
   "execution_count": null,
   "id": "a0c5817a-fd2d-456f-afaf-be9c7a5ba52a",
   "metadata": {},
   "outputs": [],
   "source": [
    "import tarfile \n",
    "import shutil\n",
    "\n",
    "# delete .git, folder and then zip\n",
    "def remove(path):\n",
    "    \"\"\" param <path> could either be relative or absolute. \"\"\"\n",
    "    if os.path.isfile(path) or os.path.islink(path):\n",
    "        os.remove(path)  # remove the file\n",
    "    elif os.path.isdir(path):\n",
    "        shutil.rmtree(path)  # remove dir and all contains\n",
    "    else:\n",
    "        raise ValueError(\"file {} is not a file or dir.\".format(path))\n",
    "remove(repo_dir + \"/.git\")\n",
    "remove(repo_dir + \"/README.md\")\n",
    "def make_tarfile(output_filename, source_dir):\n",
    "    with tarfile.open(output_filename, \"w:gz\") as tar:\n",
    "        tar.add(source_dir, arcname=os.path.basename(source_dir))\n",
    "        \n",
    "make_tarfile(repo_dir + \".tar.gz\", repo_dir)\n",
    "\n",
    "\n",
    "# cleanup \n",
    "remove(repo_dir)"
   ]
  },
  {
   "cell_type": "code",
   "execution_count": null,
   "id": "ecbb40d2-5357-4199-82a3-1685f56a6fdd",
   "metadata": {},
   "outputs": [],
   "source": [
    "#iam_client = boto3.client('iam')\n",
    "#role = iam_client.get_role(RoleName='role-name-of-your-iam-role-with-right-permissions')['Role']['Arn']\n",
    "#sess = sagemaker.Session()"
   ]
  },
  {
   "cell_type": "code",
   "execution_count": null,
   "id": "33808bea-19eb-4413-9c33-5e17801a86a2",
   "metadata": {},
   "outputs": [],
   "source": [
    "# s3 bucket personalassistantml\n",
    "import boto3\n",
    "#s3_client = boto3.client('s3')\n",
    "#with open(repo_dir + \".tar.gz\", \"rb\") as f:\n",
    "#    s3_client.upload_fileobj(f, \"personalassistantml\", repo_dir + \".tar.gz\")\n",
    "\n",
    "session = boto3.Session(profile_name=\"xxxxxxxx\")\n",
    "\n",
    "sts = session.client(\"sts\")\n",
    "response = sts.assume_role(\n",
    "    RoleArn=\"arn:aws:iam::xxxxxx:role/xxxxx\",\n",
    "    RoleSessionName=\"xxxxxx\"\n",
    ")\n",
    "#print(response)\n",
    "new_session = boto3.Session(aws_access_key_id=response['Credentials']['AccessKeyId'],\n",
    "                      aws_secret_access_key=response['Credentials']['SecretAccessKey'],\n",
    "                      aws_session_token=response['Credentials']['SessionToken'])\n",
    "s3 = new_session.client(\"s3\")\n",
    "filetoUpload = open(repo_dir + \".tar.gz\", 'rb')\n",
    "respputobject = s3.put_object(\n",
    "     Body=filetoUpload,\n",
    "    Bucket='xxxxxx',\n",
    "    Key=repo_dir + \".tar.gz\"\n",
    "    )\n",
    "#print(respputobject)\n",
    "# cleanup\n",
    "if(respputobject[\"ResponseMetadata\"][\"HTTPStatusCode\"] == 200) :\n",
    "   os.remove(repo_dir + \".tar.gz\")\n",
    "\n",
    "# update the build version so that deployment script can pick this up - TBD  "
   ]
  },
  {
   "cell_type": "code",
   "execution_count": null,
   "id": "04e84d8d-6a34-4395-86b2-fd6c001a1dc5",
   "metadata": {},
   "outputs": [],
   "source": [
    "# the deployment script. later on we need to bifurcate packaging and deployment\n",
    "from sagemaker.huggingface.model import HuggingFaceModel\n",
    "from sagemaker import get_execution_role\n",
    "\n",
    "role = get_execution_role()\n",
    "\n",
    "#iam_client = boto3.client('iam')\n",
    "#role = iam_client.get_role(RoleName='role-name-of-your-iam-role-with-right-permissions')['Role']['Arn']\n",
    "#sess = sagemaker.Session()\n",
    "model_data =\"s3://xxxx/\" + repo_dir + \".tar.gz\"\n",
    "# create Hugging Face Model Class\n",
    "huggingface_model = HuggingFaceModel(\n",
    "   model_data=model_data,  # path to your trained SageMaker model\n",
    "   role=role,                                            # IAM role with permissions to create an endpoint\n",
    "   transformers_version=\"4.26\",                           # Transformers version used\n",
    "   pytorch_version=\"1.13\",                                # PyTorch version used\n",
    "   py_version='py39',                                    # Python version used\n",
    ")\n",
    "\n",
    "\n",
    "\n"
   ]
  },
  {
   "cell_type": "code",
   "execution_count": null,
   "id": "1be40951-6381-4ba6-8f4e-287dd180699f",
   "metadata": {},
   "outputs": [],
   "source": []
  },
  {
   "cell_type": "code",
   "execution_count": null,
   "id": "21d215a8-cf2b-41c7-b557-faf3bef65e8e",
   "metadata": {},
   "outputs": [],
   "source": []
  }
 ],
 "metadata": {
  "kernelspec": {
   "display_name": "Python 3 (ipykernel)",
   "language": "python",
   "name": "python3"
  },
  "language_info": {
   "codemirror_mode": {
    "name": "ipython",
    "version": 3
   },
   "file_extension": ".py",
   "mimetype": "text/x-python",
   "name": "python",
   "nbconvert_exporter": "python",
   "pygments_lexer": "ipython3",
   "version": "3.11.5"
  }
 },
 "nbformat": 4,
 "nbformat_minor": 5
}
