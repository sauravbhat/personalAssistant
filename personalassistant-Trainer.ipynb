{
 "cells": [
  {
   "cell_type": "code",
   "execution_count": null,
   "id": "7fb81581-21ae-4e9c-ac77-efa20ba0ae25",
   "metadata": {
    "scrolled": true,
    "tags": []
   },
   "outputs": [],
   "source": [
    "%pip install --upgrade pip\n",
    "%pip install --disable-pip-version-check \\\n",
    "    torch==1.13.1 \\\n",
    "    torchdata==0.5.1 --quiet\n",
    "%pip install ipython==8.16.1\n",
    "%pip install wandb --upgrade\n",
    "%pip install sentencepiece\n",
    "%pip install \\\n",
    "    transformers==4.27.2 \\\n",
    "    datasets==2.11.0 \\\n",
    "    evaluate==0.4.0 \\\n",
    "    rouge_score==0.1.2 \\\n",
    "    loralib==0.1.1 \\\n",
    "    peft==0.3.0 --quiet"
   ]
  },
  {
   "cell_type": "code",
   "execution_count": null,
   "id": "edda8f7e-04fa-4292-bbda-723a994b25ca",
   "metadata": {
    "tags": []
   },
   "outputs": [],
   "source": [
    "# Import the necessary libraries\n",
    "import nltk\n",
    "from datasets import load_dataset\n",
    "import evaluate\n",
    "import numpy as np\n",
    "from transformers import T5Tokenizer, DataCollatorForSeq2Seq\n",
    "from transformers import T5ForConditionalGeneration, Seq2SeqTrainingArguments, Seq2SeqTrainer, AutoModelForSeq2SeqLM, AutoTokenizer, GenerationConfig, TrainingArguments"
   ]
  },
  {
   "cell_type": "code",
   "execution_count": null,
   "id": "fdedc00d-c0e2-4f25-b2f6-c0eb8fc6b7a1",
   "metadata": {
    "tags": []
   },
   "outputs": [],
   "source": [
    "# Load and split the dataset\n",
    "dataset = load_dataset(\"bsaurav/biography\")\n",
    "dataset = dataset[\"train\"].train_test_split(test_size=0.2)\n",
    "#print(dataset['test']) \n",
    "#print(dataset.shape())\n",
    "dataset"
   ]
  },
  {
   "cell_type": "code",
   "execution_count": null,
   "id": "dfecae18-c27f-4c55-b43e-3facac160049",
   "metadata": {
    "tags": []
   },
   "outputs": [],
   "source": [
    "# Load the tokenizer, model, and data collator\n",
    "tokenizer = T5Tokenizer.from_pretrained(\"google/flan-t5-base\")\n",
    "model = T5ForConditionalGeneration.from_pretrained(\"google/flan-t5-base\")\n",
    "data_collator = DataCollatorForSeq2Seq(tokenizer=tokenizer, model=model)"
   ]
  },
  {
   "cell_type": "code",
   "execution_count": null,
   "id": "6118d98f-7deb-4a70-badf-bc62fee0d11b",
   "metadata": {
    "scrolled": true
   },
   "outputs": [],
   "source": [
    "prompt = f\"\"\"\n",
    "\n",
    "question: What is your name?\n",
    "answer:\n",
    "\"\"\"\n",
    "input_ids = tokenizer(prompt, return_tensors=\"pt\").input_ids\n",
    "original_model_outputs = model.generate(input_ids=input_ids, generation_config=GenerationConfig(max_new_tokens=200, num_beams=1))\n",
    "original_model_text_output = tokenizer.decode(original_model_outputs[0], skip_special_tokens=True)\n",
    "\n",
    "print(f'ORIGINAL MODEL:\\n{original_model_text_output}')"
   ]
  },
  {
   "cell_type": "code",
   "execution_count": null,
   "id": "b58bfd7e-e6b8-4c94-8c53-8b626c0f25c4",
   "metadata": {
    "tags": []
   },
   "outputs": [],
   "source": [
    "# We prefix our tasks with \"answer the question\"\n",
    "prefix = \"answer the question: \"\n",
    "\n",
    "# Define our preprocessing function\n",
    "def preprocess_function(examples):\n",
    "    \"\"\"Add prefix to the sentences, tokenize the text, and set the labels\"\"\"\n",
    "    # The \"inputs\" are the tokenized answer:\n",
    "    inputs = [prefix + doc for doc in examples[\"question\"]]\n",
    "    model_inputs = tokenizer(inputs, max_length=128, truncation=True)\n",
    "    \n",
    "    # The \"labels\" are the tokenized outputs:\n",
    "    labels = tokenizer(text_target=examples[\"answer\"], max_length=512, truncation=True)\n",
    "    model_inputs[\"labels\"] = labels[\"input_ids\"]\n",
    "    return model_inputs\n",
    "\n",
    "# Map the preprocessing function across our dataset\n",
    "tokenized_dataset = dataset.map(preprocess_function, batched=True)"
   ]
  },
  {
   "cell_type": "code",
   "execution_count": null,
   "id": "d55c8494-f872-45cb-a6d5-dd3516923c41",
   "metadata": {
    "tags": []
   },
   "outputs": [],
   "source": [
    "# Set up Rouge score for evaluation\n",
    "nltk.download(\"punkt\", quiet=True)\n",
    "metric = evaluate.load(\"rouge\")\n",
    "\n",
    "def compute_metrics(eval_preds):\n",
    "    preds, labels = eval_preds\n",
    "\n",
    "    # decode preds and labels\n",
    "    labels = np.where(labels != -100, labels, tokenizer.pad_token_id)\n",
    "    decoded_preds = tokenizer.batch_decode(preds, skip_special_tokens=True)\n",
    "    decoded_labels = tokenizer.batch_decode(labels, skip_special_tokens=True)\n",
    "\n",
    "    # rougeLSum expects newline after each sentence\n",
    "    decoded_preds = [\"\\n\".join(nltk.sent_tokenize(pred.strip())) for pred in decoded_preds]\n",
    "    decoded_labels = [\"\\n\".join(nltk.sent_tokenize(label.strip())) for label in decoded_labels]\n",
    "\n",
    "    result = metric.compute(predictions=decoded_preds, references=decoded_labels, use_stemmer=True)\n",
    "    return result"
   ]
  },
  {
   "cell_type": "code",
   "execution_count": null,
   "id": "826cc25d-72ff-42ea-ab3e-627824fe81f7",
   "metadata": {
    "tags": []
   },
   "outputs": [],
   "source": [
    "# Set up training arguments\n",
    "training_args = Seq2SeqTrainingArguments(\n",
    "    output_dir=\"./results2\",\n",
    "    evaluation_strategy=\"epoch\",\n",
    "    learning_rate=3e-4,\n",
    "    per_device_train_batch_size=4,\n",
    "    per_device_eval_batch_size=4,\n",
    "    weight_decay=0.01,\n",
    "    save_total_limit=3,\n",
    "    num_train_epochs=6,\n",
    "    predict_with_generate=True,\n",
    "    push_to_hub=False,\n",
    "    hub_token=\"vvvvvv\"\n",
    ")\n",
    "\n",
    "# Set up trainer\n",
    "trainer = Seq2SeqTrainer(\n",
    "    model=model,\n",
    "    args=training_args,\n",
    "    train_dataset=tokenized_dataset[\"train\"],\n",
    "    eval_dataset=tokenized_dataset[\"test\"],\n",
    "    tokenizer=tokenizer,\n",
    "    data_collator=data_collator,\n",
    "    compute_metrics=compute_metrics\n",
    ")\n",
    "\n",
    "# Train the model\n",
    "trainer.train()"
   ]
  },
  {
   "cell_type": "code",
   "execution_count": null,
   "id": "c8fe925b-6e01-4b0c-a919-80a9ada1be8a",
   "metadata": {
    "tags": []
   },
   "outputs": [],
   "source": [
    "import shutil\n",
    "shutil.which(\"git-lfs\")"
   ]
  },
  {
   "cell_type": "code",
   "execution_count": null,
   "id": "ebc1c17b-5ae2-4071-b907-b3e5d2149102",
   "metadata": {
    "tags": []
   },
   "outputs": [],
   "source": [
    "#save the model to the hub\n",
    "#%pip install git-lfs\n",
    "\n",
    "#MODEL_NAME = \"personal\"  # the name of your model\n",
    "#MODEL_ID = \"google/flan-t5-base\"  # the id of the base model we will train (can be small, base, large, xl, etc.) (the bigger - the more GPU memory you need)\n",
    "#REPOSITORY_ID = f\"{MODEL_ID.split('/')[1]}-{MODEL_NAME}\"\n",
    "#f\"{MODEL_ID.split('/')[1]}-{MODEL_NAME}\"  # the id of your huggingface repository where the model will be stored\n",
    "#NUM_TRAIN_EPOCHS = 4  # number of epochs to train\n",
    "#tokenizer.save_pretrained(\"results\")\n",
    "trainer.save_model(\"results2\") \n",
    "trainer.create_model_card()\n",
    "#model.config.to_json()\n",
    "#trainer.push_to_hub()\n",
    "#tokenizer.push_to_hub(REPOSITORY_ID)"
   ]
  },
  {
   "cell_type": "code",
   "execution_count": null,
   "id": "65589bb2-d1ac-4ad9-9732-6a1258928baa",
   "metadata": {},
   "outputs": [],
   "source": []
  }
 ],
 "metadata": {
  "kernelspec": {
   "display_name": "Python 3 (ipykernel)",
   "language": "python",
   "name": "python3"
  },
  "language_info": {
   "codemirror_mode": {
    "name": "ipython",
    "version": 3
   },
   "file_extension": ".py",
   "mimetype": "text/x-python",
   "name": "python",
   "nbconvert_exporter": "python",
   "pygments_lexer": "ipython3",
   "version": "3.11.5"
  }
 },
 "nbformat": 4,
 "nbformat_minor": 5
}
